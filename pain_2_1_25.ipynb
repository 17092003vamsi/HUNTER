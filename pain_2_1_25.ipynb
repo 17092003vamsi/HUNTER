{
  "nbformat": 4,
  "nbformat_minor": 0,
  "metadata": {
    "colab": {
      "provenance": [],
      "mount_file_id": "1-xTdb-UBp8AxvghvpSOJUZJ_15hj_y7G",
      "authorship_tag": "ABX9TyNIZv5L/5kfE35slgZeELlO",
      "include_colab_link": true
    },
    "kernelspec": {
      "name": "python3",
      "display_name": "Python 3"
    },
    "language_info": {
      "name": "python"
    }
  },
  "cells": [
    {
      "cell_type": "markdown",
      "metadata": {
        "id": "view-in-github",
        "colab_type": "text"
      },
      "source": [
        "<a href=\"https://colab.research.google.com/github/17092003vamsi/HUNTER/blob/main/pain_2_1_25.ipynb\" target=\"_parent\"><img src=\"https://colab.research.google.com/assets/colab-badge.svg\" alt=\"Open In Colab\"/></a>"
      ]
    },
    {
      "cell_type": "code",
      "execution_count": 1,
      "metadata": {
        "colab": {
          "base_uri": "https://localhost:8080/"
        },
        "id": "PbZuFfU6yQO_",
        "outputId": "76cd2390-89e1-4684-c6c1-4a8c773b44d2"
      },
      "outputs": [
        {
          "output_type": "stream",
          "name": "stdout",
          "text": [
            "Found 2262 files.\n",
            "(32, 224, 224, 3)\n"
          ]
        }
      ],
      "source": [
        "import tensorflow as tf\n",
        "from tensorflow.keras.utils import image_dataset_from_directory\n",
        "\n",
        "# Path to your dataset folder\n",
        "data_dir = '/content/drive/MyDrive/GURRAM VAMSI PAIN'\n",
        "\n",
        "# Load images as a dataset (no labels)\n",
        "dataset = tf.keras.utils.image_dataset_from_directory(\n",
        "    data_dir,\n",
        "    labels=None,  # No labels since it's unclassified\n",
        "    image_size=(224, 224),  # Resize images\n",
        "    batch_size=32,\n",
        "    shuffle=False\n",
        ")\n",
        "\n",
        "# Normalize pixel values to [0, 1]\n",
        "dataset = dataset.map(lambda x: x / 255.0)\n",
        "\n",
        "# Inspect one batch of images\n",
        "for batch in dataset.take(1):\n",
        "    print(batch.shape)  # Shape of batch: (batch_size, 224, 224, 3)"
      ]
    },
    {
      "cell_type": "code",
      "source": [],
      "metadata": {
        "id": "nO3y8nxUzMto"
      },
      "execution_count": null,
      "outputs": []
    }
  ]
}